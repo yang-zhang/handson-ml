{
 "cells": [
  {
   "cell_type": "code",
   "execution_count": 19,
   "metadata": {},
   "outputs": [],
   "source": [
    "import tensorflow as tf\n",
    "from datetime import datetime\n",
    "\n",
    "now = datetime.utcnow().strftime(\"%Y%m%d%H%M%S\")\n",
    "root_logdir = \"tf_logs\"\n",
    "logdir = \"{}/run-{}\".format(root_logdir, now)"
   ]
  },
  {
   "cell_type": "code",
   "execution_count": 20,
   "metadata": {},
   "outputs": [],
   "source": [
    "import numpy as np\n",
    "from sklearn.datasets import fetch_california_housing\n",
    "from sklearn.preprocessing import StandardScaler\n",
    "\n",
    "housing = fetch_california_housing()\n",
    "m, n = housing.data.shape\n",
    "housing_data_plus_bias = np.c_[np.ones((m, 1)), housing.data]\n",
    "\n",
    "n_epochs = 1000\n",
    "learning_rate = 0.01\n",
    "\n",
    "scaled_housing_data_plus_bias = StandardScaler().fit_transform(housing_data_plus_bias)\n",
    "# X = tf.constant(scaled_housing_data_plus_bias, dtype=tf.float32, name='X')\n",
    "X = tf.placeholder(dtype=tf.float32, shape=(None, n + 1), name='X')\n",
    "# y = tf.constant(housing.target.reshape(-1, 1), dtype=tf.float32, name='y')\n",
    "y = tf.placeholder(dtype=tf.float32, shape=(None, 1), name='y')\n",
    "\n",
    "batch_size = 100\n",
    "n_batches = int(np.ceil(m / batch_size))\n",
    "\n",
    "housing = fetch_california_housing()\n",
    "housing_data_plus_bias = np.c_[np.ones((m, 1)), housing.data]\n",
    "scaled_housing_data_plus_bias = StandardScaler().fit_transform(housing_data_plus_bias)\n",
    "X_data = scaled_housing_data_plus_bias.astype(np.float32)\n",
    "y_data = housing.target.reshape(-1, 1).astype(np.float32)\n",
    "\n",
    "def fetch_batch(batch_index, batch_size):\n",
    "    indices = np.random.randint(m, size=batch_size)  # not shown\n",
    "    X_batch = X_data[indices] # not shown\n",
    "    y_batch = y_data[indices] # not shown\n",
    "    return X_batch, y_batch\n",
    "\n",
    "theta = tf.Variable(tf.random_uniform((n+1, 1)), name='theta')\n",
    "y_pred = tf.matmul(X, theta, name='predictions')\n",
    "error = y_pred - y\n",
    "mse = tf.reduce_mean(tf.square(error), name='mse')\n",
    "gradients = tf.gradients(mse, [theta])[0]\n",
    "optimizer = tf.train.GradientDescentOptimizer(learning_rate=learning_rate)\n",
    "training_op = optimizer.minimize(mse)"
   ]
  },
  {
   "cell_type": "code",
   "execution_count": 21,
   "metadata": {},
   "outputs": [],
   "source": [
    "mse_summary = tf.summary.scalar('MSE', mse)\n",
    "file_writer = tf.summary.FileWriter(logdir, tf.get_default_graph())"
   ]
  },
  {
   "cell_type": "code",
   "execution_count": 22,
   "metadata": {
    "scrolled": true
   },
   "outputs": [],
   "source": [
    "init = tf.global_variables_initializer()\n",
    "\n",
    "with tf.Session() as sess:\n",
    "    init.run()\n",
    "    \n",
    "    for epoch in range(n_epochs):\n",
    "        for batch_index in range(n_batches):\n",
    "            X_batch, y_batch = fetch_batch(batch_index, batch_size)\n",
    "            sess.run(training_op, feed_dict={X: X_batch, y: y_batch})\n",
    "            if batch_index % 10 == 0:\n",
    "                summary_str = mse_summary.eval(feed_dict={X: X_batch, y: y_batch})\n",
    "                step = epoch * n_batches + batch_index\n",
    "                file_writer.add_summary(summary_str, step)\n",
    "#                 print(\"Epoch\", epoch, \"batch_index\", batch_index, \n",
    "#                       \"MSE = \", mse.eval(feed_dict={X: X_batch, y: y_batch}))\n",
    "    best_theta = theta.eval()\n",
    "    final_mse = mse.eval(feed_dict={X: X_batch, y: y_batch})"
   ]
  },
  {
   "cell_type": "code",
   "execution_count": 23,
   "metadata": {},
   "outputs": [],
   "source": [
    "file_writer.close()"
   ]
  },
  {
   "cell_type": "code",
   "execution_count": 24,
   "metadata": {},
   "outputs": [
    {
     "name": "stdout",
     "output_type": "stream",
     "text": [
      "tf_logs/run-20180506134158:\r\n",
      "total 816\r\n",
      "-rw-r--r-- 1 root root 835089 May  6 13:42 events.out.tfevents.1525614170.04a0f2f0a265\r\n",
      "\r\n",
      "tf_logs/run-20180506135132:\r\n",
      "total 1728\r\n",
      "-rw-r--r-- 1 root root 883390 May  6 13:51 events.out.tfevents.1525614693.04a0f2f0a265\r\n",
      "-rw-r--r-- 1 root root 883647 May  6 13:51 events.out.tfevents.1525614699.04a0f2f0a265\r\n",
      "\r\n",
      "tf_logs/run-20180506135209:\r\n",
      "total 3176\r\n",
      "-rw-r--r-- 1 root root 2738661 May  6 13:53 events.out.tfevents.1525614730.04a0f2f0a265\r\n"
     ]
    }
   ],
   "source": [
    "ls -l tf_logs/run*"
   ]
  },
  {
   "cell_type": "code",
   "execution_count": null,
   "metadata": {},
   "outputs": [
    {
     "name": "stdout",
     "output_type": "stream",
     "text": [
      "/opt/conda/lib/python3.6/site-packages/h5py/__init__.py:36: FutureWarning: Conversion of the second argument of issubdtype from `float` to `np.floating` is deprecated. In future, it will be treated as `np.float64 == np.dtype(float).type`.\n",
      "  from ._conv import register_converters as _register_converters\n",
      "\u001b[33mW0506 15:34:46.364394 Reloader tf_logging.py:114] Found more than one graph event per run, or there was a metagraph containing a graph_def, as well as one or more graph events.  Overwriting the graph with the newest event.\n",
      "\u001b[0mTensorBoard 1.5.1 at http://04a0f2f0a265:6006 (Press CTRL+C to quit)\n"
     ]
    }
   ],
   "source": [
    "!python -m tensorboard.main --logdir=tf_logs"
   ]
  },
  {
   "cell_type": "code",
   "execution_count": null,
   "metadata": {},
   "outputs": [],
   "source": []
  }
 ],
 "metadata": {
  "kernelspec": {
   "display_name": "Python 3",
   "language": "python",
   "name": "python3"
  },
  "language_info": {
   "codemirror_mode": {
    "name": "ipython",
    "version": 3
   },
   "file_extension": ".py",
   "mimetype": "text/x-python",
   "name": "python",
   "nbconvert_exporter": "python",
   "pygments_lexer": "ipython3",
   "version": "3.6.4"
  },
  "toc": {
   "base_numbering": 1,
   "nav_menu": {},
   "number_sections": true,
   "sideBar": true,
   "skip_h1_title": false,
   "title_cell": "Table of Contents",
   "title_sidebar": "Contents",
   "toc_cell": false,
   "toc_position": {},
   "toc_section_display": true,
   "toc_window_display": false
  }
 },
 "nbformat": 4,
 "nbformat_minor": 2
}
