{
 "cells": [
  {
   "cell_type": "code",
   "execution_count": 2,
   "metadata": {},
   "outputs": [
    {
     "name": "stderr",
     "output_type": "stream",
     "text": [
      "/opt/conda/lib/python3.6/site-packages/h5py/__init__.py:36: FutureWarning: Conversion of the second argument of issubdtype from `float` to `np.floating` is deprecated. In future, it will be treated as `np.float64 == np.dtype(float).type`.\n",
      "  from ._conv import register_converters as _register_converters\n"
     ]
    }
   ],
   "source": [
    "import numpy as np\n",
    "from sklearn.datasets import fetch_california_housing\n",
    "\n",
    "import tensorflow as tf"
   ]
  },
  {
   "cell_type": "code",
   "execution_count": 3,
   "metadata": {},
   "outputs": [],
   "source": [
    "housing = fetch_california_housing()\n",
    "m, n = housing.data.shape\n",
    "housing_data_plus_bias = np.c_[np.ones((m, 1)), housing.data]"
   ]
  },
  {
   "cell_type": "markdown",
   "metadata": {},
   "source": [
    "### Normal Equation"
   ]
  },
  {
   "cell_type": "code",
   "execution_count": 22,
   "metadata": {},
   "outputs": [],
   "source": [
    "X = tf.constant(housing_data_plus_bias, dtype=tf.float32, name='X')\n",
    "y = tf.constant(housing.target.reshape(-1, 1), dtype=tf.float32, name='y')\n",
    "\n",
    "XT = tf.transpose(X)\n",
    "theta = tf.matmul(tf.matmul(tf.matrix_inverse(tf.matmul(XT, X)), XT), y)\n",
    "\n",
    "with tf.Session() as sess:\n",
    "    theta_value = theta.eval()"
   ]
  },
  {
   "cell_type": "markdown",
   "metadata": {},
   "source": [
    "### Gradient Descent"
   ]
  },
  {
   "cell_type": "code",
   "execution_count": 63,
   "metadata": {
    "scrolled": true
   },
   "outputs": [
    {
     "name": "stdout",
     "output_type": "stream",
     "text": [
      "Epoch 0 MSE =  5.7089496\n",
      "Epoch 100 MSE =  5.0724845\n",
      "Epoch 200 MSE =  5.000963\n",
      "Epoch 300 MSE =  4.9501376\n",
      "Epoch 400 MSE =  4.912774\n",
      "Epoch 500 MSE =  4.8852344\n",
      "Epoch 600 MSE =  4.8648696\n",
      "Epoch 700 MSE =  4.8497643\n",
      "Epoch 800 MSE =  4.838525\n",
      "Epoch 900 MSE =  4.8301373\n"
     ]
    }
   ],
   "source": [
    "from sklearn.preprocessing import StandardScaler\n",
    "\n",
    "n_epochs = 1000\n",
    "learning_rate = 0.01\n",
    "\n",
    "scaled_housing_data_plus_bias = StandardScaler().fit_transform(housing_data_plus_bias)\n",
    "X = tf.constant(scaled_housing_data_plus_bias, dtype=tf.float32, name='X')\n",
    "y = tf.constant(housing.target.reshape(-1, 1), dtype=tf.float32, name='y')\n",
    "theta = tf.Variable(tf.random_uniform((scaled_housing_data_plus_bias.shape[1], 1)), name='theta')\n",
    "y_pred = tf.matmul(X, theta, name='predictions')\n",
    "error = y_pred - y\n",
    "mse = tf.reduce_mean(tf.square(error), name='mse')\n",
    "gradients = 2/m * tf.matmul(tf.transpose(X), error)\n",
    "training_op = tf.assign(theta, theta - learning_rate * gradients)\n",
    "\n",
    "init = tf.global_variables_initializer()\n",
    "\n",
    "with tf.Session() as sess:\n",
    "    init.run()\n",
    "    \n",
    "    for epoch in range(n_epochs):\n",
    "        if epoch % 100 == 0:\n",
    "            print(\"Epoch\", epoch, \"MSE = \", mse.eval())\n",
    "        sess.run(training_op)\n",
    "    \n",
    "    best_theta = theta.eval()"
   ]
  },
  {
   "cell_type": "markdown",
   "metadata": {},
   "source": [
    "### Autodiff"
   ]
  },
  {
   "cell_type": "code",
   "execution_count": 64,
   "metadata": {},
   "outputs": [
    {
     "name": "stdout",
     "output_type": "stream",
     "text": [
      "Epoch 0 MSE =  6.6078525\n",
      "Epoch 100 MSE =  5.0543175\n",
      "Epoch 200 MSE =  4.9808254\n",
      "Epoch 300 MSE =  4.9364233\n",
      "Epoch 400 MSE =  4.903802\n",
      "Epoch 500 MSE =  4.8795495\n",
      "Epoch 600 MSE =  4.861417\n",
      "Epoch 700 MSE =  4.847815\n",
      "Epoch 800 MSE =  4.837576\n",
      "Epoch 900 MSE =  4.8298216\n"
     ]
    }
   ],
   "source": [
    "from sklearn.preprocessing import StandardScaler\n",
    "\n",
    "n_epochs = 1000\n",
    "learning_rate = 0.01\n",
    "\n",
    "scaled_housing_data_plus_bias = StandardScaler().fit_transform(housing_data_plus_bias)\n",
    "X = tf.constant(scaled_housing_data_plus_bias, dtype=tf.float32, name='X')\n",
    "y = tf.constant(housing.target.reshape(-1, 1), dtype=tf.float32, name='y')\n",
    "theta = tf.Variable(tf.random_uniform((scaled_housing_data_plus_bias.shape[1], 1)), name='theta')\n",
    "y_pred = tf.matmul(X, theta, name='predictions')\n",
    "error = y_pred - y\n",
    "mse = tf.reduce_mean(tf.square(error), name='mse')\n",
    "# gradients = 2/m * tf.matmul(tf.transpose(X), error)\n",
    "gradients = tf.gradients(mse, [theta])[0]\n",
    "training_op = tf.assign(theta, theta - learning_rate * gradients)\n",
    "\n",
    "init = tf.global_variables_initializer()\n",
    "\n",
    "with tf.Session() as sess:\n",
    "    init.run()\n",
    "    \n",
    "    for epoch in range(n_epochs):\n",
    "        if epoch % 100 == 0:\n",
    "            print(\"Epoch\", epoch, \"MSE = \", mse.eval())\n",
    "        sess.run(training_op)\n",
    "    \n",
    "    best_theta = theta.eval()"
   ]
  },
  {
   "cell_type": "markdown",
   "metadata": {},
   "source": [
    "### Optimizer"
   ]
  },
  {
   "cell_type": "code",
   "execution_count": 119,
   "metadata": {},
   "outputs": [
    {
     "name": "stdout",
     "output_type": "stream",
     "text": [
      "Epoch 0 MSE =  7.3232045\n",
      "Epoch 100 MSE =  5.0218625\n",
      "Epoch 200 MSE =  4.9438567\n",
      "Epoch 300 MSE =  4.909403\n",
      "Epoch 400 MSE =  4.884838\n",
      "Epoch 500 MSE =  4.866351\n",
      "Epoch 600 MSE =  4.852311\n",
      "Epoch 700 MSE =  4.8415933\n",
      "Epoch 800 MSE =  4.833375\n",
      "Epoch 900 MSE =  4.8270288\n"
     ]
    }
   ],
   "source": [
    "from sklearn.preprocessing import StandardScaler\n",
    "\n",
    "n_epochs = 1000\n",
    "learning_rate = 0.01\n",
    "\n",
    "scaled_housing_data_plus_bias = StandardScaler().fit_transform(housing_data_plus_bias)\n",
    "X = tf.constant(scaled_housing_data_plus_bias, dtype=tf.float32, name='X')\n",
    "y = tf.constant(housing.target.reshape(-1, 1), dtype=tf.float32, name='y')\n",
    "theta = tf.Variable(tf.random_uniform((n+1, 1)), name='theta')\n",
    "y_pred = tf.matmul(X, theta, name='predictions')\n",
    "error = y_pred - y\n",
    "mse = tf.reduce_mean(tf.square(error), name='mse')\n",
    "gradients = tf.gradients(mse, [theta])[0]\n",
    "# training_op = tf.assign(theta, theta - learning_rate * gradients)\n",
    "optimizer = tf.train.GradientDescentOptimizer(learning_rate=learning_rate)\n",
    "training_op = optimizer.minimize(mse)\n",
    "\n",
    "init = tf.global_variables_initializer()\n",
    "\n",
    "with tf.Session() as sess:\n",
    "    init.run()\n",
    "    \n",
    "    for epoch in range(n_epochs):\n",
    "        if epoch % 100 == 0:\n",
    "            print(\"Epoch\", epoch, \"MSE = \", mse.eval())\n",
    "        sess.run(training_op)\n",
    "    \n",
    "    best_theta = theta.eval()"
   ]
  },
  {
   "cell_type": "code",
   "execution_count": 111,
   "metadata": {},
   "outputs": [
    {
     "data": {
      "text/plain": [
       "array([[ 0.36347306],\n",
       "       [ 0.883878  ],\n",
       "       [ 0.17219514],\n",
       "       [-0.28710952],\n",
       "       [ 0.28795215],\n",
       "       [ 0.01423508],\n",
       "       [-0.0450042 ],\n",
       "       [-0.45935273],\n",
       "       [-0.43240803]], dtype=float32)"
      ]
     },
     "execution_count": 111,
     "metadata": {},
     "output_type": "execute_result"
    }
   ],
   "source": [
    "best_theta"
   ]
  },
  {
   "cell_type": "markdown",
   "metadata": {},
   "source": [
    "### Feeding data in batch"
   ]
  },
  {
   "cell_type": "markdown",
   "metadata": {},
   "source": [
    "#### Placeholder"
   ]
  },
  {
   "cell_type": "code",
   "execution_count": 4,
   "metadata": {},
   "outputs": [
    {
     "name": "stdout",
     "output_type": "stream",
     "text": [
      "[[6. 7. 8.]]\n",
      "[[ 6.  7.  8.]\n",
      " [ 9. 10. 11.]]\n"
     ]
    }
   ],
   "source": [
    "A = tf.placeholder(tf.float32, shape=(None, 3))\n",
    "B = A + 5\n",
    "\n",
    "with tf.Session() as sess:\n",
    "    B_val_1 = B.eval(feed_dict={A: [[1, 2, 3]]})\n",
    "    B_val_2 = B.eval(feed_dict={A: [[1, 2, 3], [4, 5, 6]]})\n",
    "    \n",
    "print(B_val_1)\n",
    "print(B_val_2)"
   ]
  },
  {
   "cell_type": "code",
   "execution_count": 5,
   "metadata": {},
   "outputs": [
    {
     "name": "stdout",
     "output_type": "stream",
     "text": [
      "Epoch 0 batch_index 0 MSE =  6.8661585\n",
      "Epoch 0 batch_index 100 MSE =  4.8618217\n",
      "Epoch 0 batch_index 200 MSE =  4.380103\n",
      "Epoch 100 batch_index 0 MSE =  4.433922\n",
      "Epoch 100 batch_index 100 MSE =  4.8083544\n",
      "Epoch 100 batch_index 200 MSE =  5.4546094\n",
      "Epoch 200 batch_index 0 MSE =  4.603949\n",
      "Epoch 200 batch_index 100 MSE =  4.8993406\n",
      "Epoch 200 batch_index 200 MSE =  4.195206\n",
      "Epoch 300 batch_index 0 MSE =  4.7878222\n",
      "Epoch 300 batch_index 100 MSE =  4.638152\n",
      "Epoch 300 batch_index 200 MSE =  4.3889546\n",
      "Epoch 400 batch_index 0 MSE =  4.7806244\n",
      "Epoch 400 batch_index 100 MSE =  23.505112\n",
      "Epoch 400 batch_index 200 MSE =  4.858443\n",
      "Epoch 500 batch_index 0 MSE =  5.743591\n",
      "Epoch 500 batch_index 100 MSE =  4.188973\n",
      "Epoch 500 batch_index 200 MSE =  4.999134\n",
      "Epoch 600 batch_index 0 MSE =  5.1130195\n",
      "Epoch 600 batch_index 100 MSE =  5.561493\n",
      "Epoch 600 batch_index 200 MSE =  5.1629915\n",
      "Epoch 700 batch_index 0 MSE =  4.9809194\n",
      "Epoch 700 batch_index 100 MSE =  5.02981\n",
      "Epoch 700 batch_index 200 MSE =  4.6528826\n",
      "Epoch 800 batch_index 0 MSE =  4.21743\n",
      "Epoch 800 batch_index 100 MSE =  4.3398023\n",
      "Epoch 800 batch_index 200 MSE =  5.294446\n",
      "Epoch 900 batch_index 0 MSE =  4.885321\n",
      "Epoch 900 batch_index 100 MSE =  5.0662117\n",
      "Epoch 900 batch_index 200 MSE =  5.1211033\n"
     ]
    }
   ],
   "source": [
    "from sklearn.preprocessing import StandardScaler\n",
    "\n",
    "housing = fetch_california_housing()\n",
    "m, n = housing.data.shape\n",
    "housing_data_plus_bias = np.c_[np.ones((m, 1)), housing.data]\n",
    "\n",
    "n_epochs = 1000\n",
    "learning_rate = 0.01\n",
    "\n",
    "scaled_housing_data_plus_bias = StandardScaler().fit_transform(housing_data_plus_bias)\n",
    "# X = tf.constant(scaled_housing_data_plus_bias, dtype=tf.float32, name='X')\n",
    "X = tf.placeholder(dtype=tf.float32, shape=(None, n + 1), name='X')\n",
    "# y = tf.constant(housing.target.reshape(-1, 1), dtype=tf.float32, name='y')\n",
    "y = tf.placeholder(dtype=tf.float32, shape=(None, 1), name='y')\n",
    "\n",
    "batch_size = 100\n",
    "n_batches = int(np.ceil(m / batch_size))\n",
    "\n",
    "housing = fetch_california_housing()\n",
    "housing_data_plus_bias = np.c_[np.ones((m, 1)), housing.data]\n",
    "scaled_housing_data_plus_bias = StandardScaler().fit_transform(housing_data_plus_bias)\n",
    "X_data = scaled_housing_data_plus_bias.astype(np.float32)\n",
    "y_data = housing.target.reshape(-1, 1).astype(np.float32)\n",
    "\n",
    "def fetch_batch(batch_index, batch_size):\n",
    "    indices = np.random.randint(m, size=batch_size)  # not shown\n",
    "    X_batch = X_data[indices] # not shown\n",
    "    y_batch = y_data[indices] # not shown\n",
    "    return X_batch, y_batch\n",
    "\n",
    "theta = tf.Variable(tf.random_uniform((n+1, 1)), name='theta')\n",
    "y_pred = tf.matmul(X, theta, name='predictions')\n",
    "error = y_pred - y\n",
    "mse = tf.reduce_mean(tf.square(error), name='mse')\n",
    "gradients = tf.gradients(mse, [theta])[0]\n",
    "optimizer = tf.train.GradientDescentOptimizer(learning_rate=learning_rate)\n",
    "training_op = optimizer.minimize(mse)\n",
    "\n",
    "init = tf.global_variables_initializer()\n",
    "\n",
    "with tf.Session() as sess:\n",
    "    init.run()\n",
    "    \n",
    "    for epoch in range(n_epochs):\n",
    "        for batch_index in range(n_batches):\n",
    "            X_batch, y_batch = fetch_batch(batch_index, batch_size)\n",
    "            sess.run(training_op, feed_dict={X: X_batch, y: y_batch})\n",
    "            if epoch % 100 == 0 and batch_index % 100 == 0:\n",
    "                print(\"Epoch\", epoch, \"batch_index\", batch_index, \n",
    "                      \"MSE = \", mse.eval(feed_dict={X: X_batch, y: y_batch}))\n",
    "\n",
    "    \n",
    "    best_theta = theta.eval()\n",
    "    final_mse = mse.eval(feed_dict={X: X_batch, y: y_batch})"
   ]
  },
  {
   "cell_type": "code",
   "execution_count": 32,
   "metadata": {
    "scrolled": true
   },
   "outputs": [
    {
     "data": {
      "text/plain": [
       "array([[ 0.60927844],\n",
       "       [ 0.8317298 ],\n",
       "       [ 0.13330474],\n",
       "       [-0.22988458],\n",
       "       [ 0.36170158],\n",
       "       [-0.02722611],\n",
       "       [-0.00466394],\n",
       "       [-0.93803585],\n",
       "       [-0.8783747 ]], dtype=float32)"
      ]
     },
     "execution_count": 32,
     "metadata": {},
     "output_type": "execute_result"
    }
   ],
   "source": [
    "best_theta"
   ]
  },
  {
   "cell_type": "code",
   "execution_count": null,
   "metadata": {},
   "outputs": [],
   "source": []
  }
 ],
 "metadata": {
  "kernelspec": {
   "display_name": "Python 3",
   "language": "python",
   "name": "python3"
  },
  "language_info": {
   "codemirror_mode": {
    "name": "ipython",
    "version": 3
   },
   "file_extension": ".py",
   "mimetype": "text/x-python",
   "name": "python",
   "nbconvert_exporter": "python",
   "pygments_lexer": "ipython3",
   "version": "3.6.4"
  },
  "toc": {
   "base_numbering": 1,
   "nav_menu": {},
   "number_sections": true,
   "sideBar": true,
   "skip_h1_title": false,
   "title_cell": "Table of Contents",
   "title_sidebar": "Contents",
   "toc_cell": false,
   "toc_position": {},
   "toc_section_display": true,
   "toc_window_display": false
  }
 },
 "nbformat": 4,
 "nbformat_minor": 2
}
